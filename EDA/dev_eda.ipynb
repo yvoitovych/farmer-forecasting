{
 "cells": [
  {
   "cell_type": "code",
   "execution_count": 1,
   "metadata": {},
   "outputs": [],
   "source": [
    "import pandas as pd\n",
    "import numpy as np\n",
    "import matplotlib.pyplot as plt\n",
    "\n",
    "from utils.preprocessor import LOBPreprocessor\n",
    "from utils.ab_tester import ABTester\n",
    "from utils.var_model import VanillaVAR"
   ]
  },
  {
   "cell_type": "markdown",
   "metadata": {},
   "source": [
    "## Data preprocessing"
   ]
  },
  {
   "cell_type": "code",
   "execution_count": 2,
   "metadata": {},
   "outputs": [
    {
     "name": "stderr",
     "output_type": "stream",
     "text": [
      "INFO:root:Preprocessor initialized!\n",
      "INFO:root:VWAP added!\n"
     ]
    }
   ],
   "source": [
    "prep = LOBPreprocessor()\n",
    "prep.add_vwap()\n",
    "lob_data = prep.lob_data"
   ]
  },
  {
   "cell_type": "code",
   "execution_count": 3,
   "metadata": {},
   "outputs": [
    {
     "data": {
      "image/png": "[encoded data removed]",
      "text/plain": [
       "<Figure size 432x288 with 1 Axes>"
      ]
     },
     "metadata": {
      "needs_background": "light"
     },
     "output_type": "display_data"
    },
    {
     "data": {
      "image/png": "[encoded data removed]",
      "text/plain": [
       "<Figure size 432x288 with 1 Axes>"
      ]
     },
     "metadata": {
      "needs_background": "light"
     },
     "output_type": "display_data"
    }
   ],
   "source": [
    "prep.vwap.hist()\n",
    "plt.show()\n",
    "prep.vwap.plot()\n",
    "plt.show()"
   ]
  },
  {
   "cell_type": "code",
   "execution_count": 4,
   "metadata": {},
   "outputs": [
    {
     "name": "stderr",
     "output_type": "stream",
     "text": [
      "INFO:root:Data differentiated\n",
      "INFO:root:Starting normalize data\n",
      "INFO:root:Data is normalized\n",
      "INFO:root:Starting normalize data\n",
      "INFO:root:Data is normalized\n"
     ]
    }
   ],
   "source": [
    "prep.diff_time_series()\n",
    "data_train, data_test = LOBPreprocessor.train_test_split(prep.price_only(), train_frac=0.9)\n",
    "preprocessed_data_train, scaler_train = LOBPreprocessor.normalize(data_train)\n",
    "preprocessed_data_test, _ = LOBPreprocessor.normalize(data_train, scaler_train)"
   ]
  },
  {
   "cell_type": "markdown",
   "metadata": {},
   "source": [
    "## AB tests"
   ]
  },
  {
   "cell_type": "markdown",
   "metadata": {},
   "source": []
  },
  {
   "cell_type": "code",
   "execution_count": null,
   "metadata": {},
   "outputs": [],
   "source": [
    "ab_tester = ABTester(preprocessed_data_train, prep.columns)\n",
    "#ab_tester.test_kpss()\n",
    "#ab_tester.test_adf()"
   ]
  },
  {
   "cell_type": "markdown",
   "metadata": {},
   "source": [
    "## Modeling"
   ]
  },
  {
   "cell_type": "markdown",
   "metadata": {},
   "source": [
    "### Vanilla VAR"
   ]
  },
  {
   "cell_type": "code",
   "execution_count": 5,
   "metadata": {},
   "outputs": [
    {
     "name": "stderr",
     "output_type": "stream",
     "text": [
      "INFO:root:Vanilla VAR initialized\n",
      "INFO:root:Start fitting\n",
      "INFO:root:Selecting lag order\n",
      "INFO:root:Order selected\n",
      "INFO:root:Fitted succesfully\n"
     ]
    }
   ],
   "source": [
    "model = VanillaVAR(preprocessed_data_train, preprocessed_data_test)\n",
    "model.train()\n"
   ]
  },
  {
   "cell_type": "code",
   "execution_count": 6,
   "metadata": {},
   "outputs": [],
   "source": [
    "# for col_id in range(len(prep.columns)):\n",
    "#     print(prep.columns[col_id])\n",
    "#     model.validate(col_id=col_id)\n",
    "#     print('\\n\\n\\n\\n\\n')\n"
   ]
  },
  {
   "cell_type": "code",
   "execution_count": 7,
   "metadata": {},
   "outputs": [],
   "source": [
    "# for col_id in range(len(prep.columns)):\n",
    "#     print(prep.columns[col_id])\n",
    "#     model.validate_inverse_transform(col_id, scaler_train)\n",
    "#     print('\\n\\n\\n\\n\\n')"
   ]
  },
  {
   "cell_type": "code",
   "execution_count": 8,
   "metadata": {},
   "outputs": [
    {
     "name": "stderr",
     "output_type": "stream",
     "text": [
      "INFO:root:p=15\n",
      "INFO:root:Compare signs: 0.48148148148148145\n",
      "INFO:root:p=15\n",
      "INFO:root:Compare signs: 0.24951267056530213\n",
      "INFO:root:p=15\n",
      "INFO:root:Compare signs: 0.253411306042885\n",
      "INFO:root:p=15\n",
      "INFO:root:Compare signs: 0.25292397660818716\n",
      "INFO:root:p=15\n",
      "INFO:root:Compare signs: 0.2631578947368421\n",
      "INFO:root:p=15\n",
      "INFO:root:Compare signs: 0.2729044834307992\n",
      "INFO:root:p=15\n",
      "INFO:root:Compare signs: 0.2675438596491228\n",
      "INFO:root:p=15\n",
      "INFO:root:Compare signs: 0.6023391812865497\n",
      "INFO:root:p=15\n",
      "INFO:root:Compare signs: 0.2787524366471735\n",
      "INFO:root:p=15\n",
      "INFO:root:Compare signs: 0.29580896686159847\n",
      "INFO:root:p=15\n",
      "INFO:root:Compare signs: 0.31189083820662766\n",
      "INFO:root:p=15\n",
      "INFO:root:Compare signs: 0.26949317738791423\n",
      "INFO:root:p=15\n",
      "INFO:root:Compare signs: 0.5877192982456141\n",
      "INFO:root:p=15\n",
      "INFO:root:Compare signs: 0.2850877192982456\n",
      "INFO:root:p=15\n",
      "INFO:root:Compare signs: 0.5799220272904484\n",
      "INFO:root:p=15\n",
      "INFO:root:Compare signs: 0.29239766081871343\n",
      "INFO:root:p=15\n",
      "INFO:root:Compare signs: 0.2655945419103314\n",
      "INFO:root:p=15\n",
      "INFO:root:Compare signs: 0.2719298245614035\n",
      "INFO:root:p=15\n",
      "INFO:root:Compare signs: 0.577485380116959\n",
      "INFO:root:p=15\n",
      "INFO:root:Compare signs: 0.2719298245614035\n"
     ]
    },
    {
     "ename": "IndexError",
     "evalue": "index 20 is out of bounds for axis 0 with size 20",
     "output_type": "error",
     "traceback": [
      "\u001B[0;31m---------------------------------------------------------------------------\u001B[0m",
      "\u001B[0;31mIndexError\u001B[0m                                Traceback (most recent call last)",
      "\u001B[0;32m/var/folders/pj/w_55gq0n42z2bbg3kwyhm35m0000gn/T/ipykernel_88483/1305946709.py\u001B[0m in \u001B[0;36m<module>\u001B[0;34m\u001B[0m\n\u001B[1;32m      1\u001B[0m \u001B[0;32mfor\u001B[0m \u001B[0mcol_id\u001B[0m \u001B[0;32min\u001B[0m \u001B[0mrange\u001B[0m\u001B[0;34m(\u001B[0m\u001B[0mlen\u001B[0m\u001B[0;34m(\u001B[0m\u001B[0mprep\u001B[0m\u001B[0;34m.\u001B[0m\u001B[0mcolumns\u001B[0m\u001B[0;34m)\u001B[0m\u001B[0;34m)\u001B[0m\u001B[0;34m:\u001B[0m\u001B[0;34m\u001B[0m\u001B[0;34m\u001B[0m\u001B[0m\n\u001B[0;32m----> 2\u001B[0;31m     \u001B[0mmodel\u001B[0m\u001B[0;34m.\u001B[0m\u001B[0mvalidate_classify\u001B[0m\u001B[0;34m(\u001B[0m\u001B[0mcol_id\u001B[0m\u001B[0;34m,\u001B[0m \u001B[0mscaler_train\u001B[0m\u001B[0;34m)\u001B[0m\u001B[0;34m\u001B[0m\u001B[0;34m\u001B[0m\u001B[0m\n\u001B[0m",
      "\u001B[0;32m~/Desktop/Cursova/git/farmer-forecasting/utils/var_model.py\u001B[0m in \u001B[0;36mvalidate_classify\u001B[0;34m(self, col_id, scaler)\u001B[0m\n\u001B[1;32m     88\u001B[0m             \u001B[0mreal\u001B[0m \u001B[0;34m=\u001B[0m \u001B[0mself\u001B[0m\u001B[0;34m.\u001B[0m\u001B[0m__all_data\u001B[0m\u001B[0;34m[\u001B[0m\u001B[0mend_idx\u001B[0m\u001B[0;34m]\u001B[0m\u001B[0;34m\u001B[0m\u001B[0;34m\u001B[0m\u001B[0m\n\u001B[1;32m     89\u001B[0m \u001B[0;34m\u001B[0m\u001B[0m\n\u001B[0;32m---> 90\u001B[0;31m             \u001B[0mpreds\u001B[0m\u001B[0;34m.\u001B[0m\u001B[0mappend\u001B[0m\u001B[0;34m(\u001B[0m\u001B[0mscaler\u001B[0m\u001B[0;34m.\u001B[0m\u001B[0minverse_transform\u001B[0m\u001B[0;34m(\u001B[0m\u001B[0mpred\u001B[0m\u001B[0;34m)\u001B[0m\u001B[0;34m.\u001B[0m\u001B[0mreshape\u001B[0m\u001B[0;34m(\u001B[0m\u001B[0;34m-\u001B[0m\u001B[0;36m1\u001B[0m\u001B[0;34m,\u001B[0m\u001B[0;34m)\u001B[0m\u001B[0;34m[\u001B[0m\u001B[0mcol_id\u001B[0m\u001B[0;34m]\u001B[0m\u001B[0;34m)\u001B[0m\u001B[0;34m\u001B[0m\u001B[0;34m\u001B[0m\u001B[0m\n\u001B[0m\u001B[1;32m     91\u001B[0m             \u001B[0mreals\u001B[0m\u001B[0;34m.\u001B[0m\u001B[0mappend\u001B[0m\u001B[0;34m(\u001B[0m\u001B[0mscaler\u001B[0m\u001B[0;34m.\u001B[0m\u001B[0minverse_transform\u001B[0m\u001B[0;34m(\u001B[0m\u001B[0mreal\u001B[0m\u001B[0;34m.\u001B[0m\u001B[0mreshape\u001B[0m\u001B[0;34m(\u001B[0m\u001B[0;36m1\u001B[0m\u001B[0;34m,\u001B[0m\u001B[0;34m-\u001B[0m\u001B[0;36m1\u001B[0m\u001B[0;34m)\u001B[0m\u001B[0;34m)\u001B[0m\u001B[0;34m.\u001B[0m\u001B[0mreshape\u001B[0m\u001B[0;34m(\u001B[0m\u001B[0;34m-\u001B[0m\u001B[0;36m1\u001B[0m\u001B[0;34m,\u001B[0m\u001B[0;34m)\u001B[0m\u001B[0;34m[\u001B[0m\u001B[0mcol_id\u001B[0m\u001B[0;34m]\u001B[0m\u001B[0;34m)\u001B[0m\u001B[0;34m\u001B[0m\u001B[0;34m\u001B[0m\u001B[0m\n\u001B[1;32m     92\u001B[0m \u001B[0;34m\u001B[0m\u001B[0m\n",
      "\u001B[0;31mIndexError\u001B[0m: index 20 is out of bounds for axis 0 with size 20"
     ]
    }
   ],
   "source": [
    "for col_id in range(len(prep.columns)):\n",
    "    model.validate_classify(col_id, scaler_train)"
   ]
  },
  {
   "cell_type": "markdown",
   "metadata": {},
   "source": [
    "### Sparse VAR"
   ]
  },
  {
   "cell_type": "markdown",
   "metadata": {},
   "source": []
  }
 ],
 "metadata": {
  "interpreter": {
   "hash": "54d356486ff2ba0c3d9e13c64ff7bf2e6381fae719cd386f2a6b10a69dc501fd"
  },
  "kernelspec": {
   "display_name": "Python 3 (ipykernel)",
   "language": "python",
   "name": "python3"
  },
  "language_info": {
   "codemirror_mode": {
    "name": "ipython",
    "version": 3
   },
   "file_extension": ".py",
   "mimetype": "text/x-python",
   "name": "python",
   "nbconvert_exporter": "python",
   "pygments_lexer": "ipython3",
   "version": "3.8.9"
  }
 },
 "nbformat": 4,
 "nbformat_minor": 2
}